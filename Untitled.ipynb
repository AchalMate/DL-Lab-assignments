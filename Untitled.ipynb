{
 "cells": [
  {
   "cell_type": "code",
   "execution_count": null,
   "id": "2ad47a4a",
   "metadata": {},
   "outputs": [],
   "source": [
    "from flask import Flask, render_template, request\n",
    "from keras.models import load_model\n",
    "import numpy as np\n",
    "from PIL import Image\n",
    "\n",
    "app = Flask(__name__)\n",
    "\n",
    "@app.route('/' , methods = ['GET','POST'])\n",
    "def index():\n",
    "    img = Image.open(r'F:\\MIT 7th Sem\\DL Lab\\Minst_ANN_CNN\\three.png')\n",
    "    newsize = (28,28)\n",
    "    im = img.resize(newsize)\n",
    "    im = np.array(im,dtype = np.float32) / 255.0\n",
    "    print(im.shape)\n",
    "    img = im.reshape(28,28,1)\n",
    "    print(img.shape)\n",
    "    model = load_model('mnist_seq.h5')\n",
    "    pred = np.argmax(model.predict(np.expand_dims(img,axis=0)))\n",
    "    print(pred)\n",
    "    return render_template('index.html')\n",
    "\n",
    "app.run()"
   ]
  },
  {
   "cell_type": "code",
   "execution_count": null,
   "id": "bf829ec5",
   "metadata": {},
   "outputs": [],
   "source": []
  }
 ],
 "metadata": {
  "kernelspec": {
   "display_name": "Python 3 (ipykernel)",
   "language": "python",
   "name": "python3"
  },
  "language_info": {
   "codemirror_mode": {
    "name": "ipython",
    "version": 3
   },
   "file_extension": ".py",
   "mimetype": "text/x-python",
   "name": "python",
   "nbconvert_exporter": "python",
   "pygments_lexer": "ipython3",
   "version": "3.9.12"
  }
 },
 "nbformat": 4,
 "nbformat_minor": 5
}
