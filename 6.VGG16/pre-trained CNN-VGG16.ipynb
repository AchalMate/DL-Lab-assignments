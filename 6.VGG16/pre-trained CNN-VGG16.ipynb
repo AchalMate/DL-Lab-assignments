{
 "cells": [
  {
   "cell_type": "code",
   "execution_count": 1,
   "id": "3c33eae5",
   "metadata": {},
   "outputs": [],
   "source": [
    "import numpy as np\n",
    "import pandas as pd \n",
    "import seaborn as sns\n",
    "import warnings\n",
    "warnings.filterwarnings('ignore')\n",
    "import matplotlib.pyplot as plt"
   ]
  },
  {
   "cell_type": "code",
   "execution_count": 2,
   "id": "f763c9ca",
   "metadata": {},
   "outputs": [],
   "source": [
    "import os\n",
    "from sklearn.metrics import ConfusionMatrixDisplay, confusion_matrix, classification_report \n",
    "from keras.preprocessing.image import  ImageDataGenerator\n",
    "from keras.models import Sequential, Model\n",
    "from keras.layers import Conv2D, MaxPool2D, Flatten, Dense, GlobalAveragePooling2D, Dropout, BatchNormalization, Input\n",
    "from keras.callbacks import ReduceLROnPlateau, EarlyStopping, ModelCheckpoint\n",
    "from keras.applications.vgg16 import VGG16, preprocess_input"
   ]
  },
  {
   "cell_type": "code",
   "execution_count": 3,
   "id": "c8a35d9e",
   "metadata": {},
   "outputs": [],
   "source": [
    "train_dir = r\"D:\\DataSets\\Cat_and_Dog\\training_set\"\n",
    "test_dir = r\"D:\\DataSets\\Cat_and_Dog\\test_set\""
   ]
  },
  {
   "cell_type": "code",
   "execution_count": 4,
   "id": "a1740125",
   "metadata": {},
   "outputs": [],
   "source": [
    "train_data=ImageDataGenerator(rotation_range=40,\n",
    "        width_shift_range=0.2,\n",
    "        height_shift_range=0.2,\n",
    "        rescale=1./255,\n",
    "        shear_range=0.2,\n",
    "        zoom_range=0.2,\n",
    "        validation_split=0.2,\n",
    "        horizontal_flip=True,\n",
    "        fill_mode='nearest')\n",
    "\n",
    "test_data=ImageDataGenerator(rescale=1./255)"
   ]
  },
  {
   "cell_type": "code",
   "execution_count": 5,
   "id": "f032e4dc",
   "metadata": {},
   "outputs": [
    {
     "name": "stdout",
     "output_type": "stream",
     "text": [
      "Found 6400 images belonging to 2 classes.\n",
      "Found 1600 images belonging to 2 classes.\n",
      "Found 2000 images belonging to 2 classes.\n"
     ]
    }
   ],
   "source": [
    "train_set=train_data.flow_from_directory(directory=train_dir,target_size=(224,224),batch_size=32,color_mode=\"rgb\",class_mode = 'binary',subset='training')\n",
    "validation_set=train_data.flow_from_directory(directory=train_dir,target_size=(224,224),batch_size=32,color_mode=\"rgb\",class_mode = 'binary',subset='validation')\n",
    "test_set=test_data.flow_from_directory(directory=test_dir,target_size=(224,224),batch_size=30,shuffle=True,class_mode = 'binary',color_mode=\"rgb\")"
   ]
  },
  {
   "cell_type": "code",
   "execution_count": 6,
   "id": "99348674",
   "metadata": {},
   "outputs": [],
   "source": [
    "base_model = VGG16(\n",
    "    weights = \"imagenet\", \n",
    "    input_shape = (224, 224, 3),\n",
    "    include_top = False\n",
    ")\n",
    "\n",
    "\n",
    "for layers in base_model.layers:\n",
    "    layers.trainable = False\n",
    "\n",
    "\n",
    "def vgg16_pretrained():\n",
    "    \n",
    "    model = Sequential(\n",
    "        [\n",
    "            base_model,\n",
    "            GlobalAveragePooling2D(),\n",
    "            Dense(512, activation = \"relu\"),\n",
    "            Dense(128, activation = \"relu\"),\n",
    "            Dropout(0.4),\n",
    "            Dense(64, activation = \"relu\"),\n",
    "            Dense(1, activation = \"sigmoid\")\n",
    "        ]\n",
    "    )\n",
    "    \n",
    "    return model\n"
   ]
  },
  {
   "cell_type": "code",
   "execution_count": 7,
   "id": "cfe9a866",
   "metadata": {},
   "outputs": [
    {
     "name": "stdout",
     "output_type": "stream",
     "text": [
      "Model: \"sequential\"\n",
      "_________________________________________________________________\n",
      " Layer (type)                Output Shape              Param #   \n",
      "=================================================================\n",
      " vgg16 (Functional)          (None, 7, 7, 512)         14714688  \n",
      "                                                                 \n",
      " global_average_pooling2d (G  (None, 512)              0         \n",
      " lobalAveragePooling2D)                                          \n",
      "                                                                 \n",
      " dense (Dense)               (None, 512)               262656    \n",
      "                                                                 \n",
      " dense_1 (Dense)             (None, 128)               65664     \n",
      "                                                                 \n",
      " dropout (Dropout)           (None, 128)               0         \n",
      "                                                                 \n",
      " dense_2 (Dense)             (None, 64)                8256      \n",
      "                                                                 \n",
      " dense_3 (Dense)             (None, 1)                 65        \n",
      "                                                                 \n",
      "=================================================================\n",
      "Total params: 15,051,329\n",
      "Trainable params: 336,641\n",
      "Non-trainable params: 14,714,688\n",
      "_________________________________________________________________\n"
     ]
    }
   ],
   "source": [
    "model = vgg16_pretrained()\n",
    "\n",
    "model.compile(loss = \"categorical_crossentropy\", optimizer = \"adam\", metrics = \"accuracy\")\n",
    "\n",
    "model.summary()"
   ]
  },
  {
   "cell_type": "code",
   "execution_count": null,
   "id": "75724464",
   "metadata": {},
   "outputs": [],
   "source": [
    "reduce_lr = ReduceLROnPlateau(\n",
    "    monitor = \"val_accuracy\", \n",
    "    patience = 2,\n",
    "    verbose = 1, \n",
    "    factor = 0.5, \n",
    "    min_lr = 0.000000001\n",
    ")\n",
    "\n",
    "early_stopping = EarlyStopping(\n",
    "    monitor = \"val_accuracy\",\n",
    "    patience = 5,\n",
    "    verbose = 1,\n",
    "    mode = \"max\",\n",
    ")\n",
    "\n",
    "checkpoint = ModelCheckpoint(\n",
    "    monitor = \"val_accuracy\",\n",
    "    filepath = \"catdog_vgg16_.{epoch:02d}-{val_accuracy:.6f}.hdf5\",\n",
    "    verbose = 1,\n",
    "    save_best_only = True, \n",
    "    save_weights_only = True\n",
    ")"
   ]
  },
  {
   "cell_type": "code",
   "execution_count": null,
   "id": "9c02bfe2",
   "metadata": {},
   "outputs": [
    {
     "name": "stdout",
     "output_type": "stream",
     "text": [
      "Epoch 1/10\n",
      "200/200 [==============================] - 1619s 8s/step - loss: 0.0000e+00 - accuracy: 0.4988 - val_loss: 0.0000e+00 - val_accuracy: 0.5000\n",
      "Epoch 2/10\n",
      "200/200 [==============================] - 1444s 7s/step - loss: 0.0000e+00 - accuracy: 0.5000 - val_loss: 0.0000e+00 - val_accuracy: 0.5000\n",
      "Epoch 3/10\n",
      " 71/200 [=========>....................] - ETA: 13:02 - loss: 0.0000e+00 - accuracy: 0.5238"
     ]
    }
   ],
   "source": [
    "history = model.fit_generator(train_set,\n",
    "    epochs = 10, \n",
    "    validation_data = validation_set,\n",
    "    validation_steps = 1600 // 32,\n",
    "    steps_per_epoch = 6400 // 32,\n",
    "#     callbacks = [reduce_lr, early_stopping, checkpoint]\n",
    ")"
   ]
  },
  {
   "cell_type": "code",
   "execution_count": null,
   "id": "9ebcf2f1",
   "metadata": {},
   "outputs": [],
   "source": [
    "fig, axes = plt.subplots(1, 2, figsize = (12, 4))\n",
    "\n",
    "sns.lineplot(x = range(len(history.history[\"loss\"])), y = history.history[\"loss\"], ax = axes[0], label = \"Training Loss\")\n",
    "sns.lineplot(x = range(len(history.history[\"loss\"])), y = history.history[\"val_loss\"], ax = axes[0], label = \"Validation Loss\")\n",
    "\n",
    "sns.lineplot(x = range(len(history.history[\"accuracy\"])), y = history.history[\"accuracy\"], ax = axes[1], label = \"Training Accuracy\")\n",
    "sns.lineplot(x = range(len(history.history[\"accuracy\"])), y = history.history[\"val_accuracy\"], ax = axes[1], label = \"Validation Accuracy\")\n",
    "axes[0].set_title(\"Loss\"); axes[1].set_title(\"Accuracy\")\n",
    "\n",
    "sns.despine()\n",
    "plt.show()"
   ]
  },
  {
   "cell_type": "code",
   "execution_count": null,
   "id": "695d8074",
   "metadata": {},
   "outputs": [],
   "source": [
    "test_images = os.listdir(D:\\DataSets\\Cat_and_Dog\\test_set)\n",
    "X_test = pd.DataFrame({\n",
    "    'test_imagename': test_images\n",
    "})\n",
    "samples = X_test.shape[0]"
   ]
  },
  {
   "cell_type": "code",
   "execution_count": null,
   "id": "f803fc9a",
   "metadata": {},
   "outputs": [],
   "source": [
    "X_test.count()"
   ]
  },
  {
   "cell_type": "code",
   "execution_count": null,
   "id": "c29324b0",
   "metadata": {},
   "outputs": [],
   "source": [
    "predict = model.predict_generator(test_generator, steps=np.ceil(samples/batch_size))"
   ]
  },
  {
   "cell_type": "code",
   "execution_count": null,
   "id": "4f873fe3",
   "metadata": {},
   "outputs": [],
   "source": [
    "predict.shape,X_test.shape"
   ]
  },
  {
   "cell_type": "code",
   "execution_count": null,
   "id": "d4663d55",
   "metadata": {},
   "outputs": [],
   "source": [
    "# Define treshold\n",
    "threshold = 0.5\n",
    "# Convert\n",
    "Y_pred_conv = np.where(Y_pred > threshold, 1,0)"
   ]
  },
  {
   "cell_type": "code",
   "execution_count": null,
   "id": "2985f50b",
   "metadata": {},
   "outputs": [],
   "source": [
    "Y_pred_conv[:,0]"
   ]
  },
  {
   "cell_type": "code",
   "execution_count": null,
   "id": "d3638852",
   "metadata": {},
   "outputs": [],
   "source": [
    "Y_pred_conv.dtype"
   ]
  },
  {
   "cell_type": "code",
   "execution_count": null,
   "id": "ec832378",
   "metadata": {},
   "outputs": [],
   "source": [
    "Y_val.dtype"
   ]
  },
  {
   "cell_type": "code",
   "execution_count": null,
   "id": "8cf098ff",
   "metadata": {},
   "outputs": [],
   "source": [
    "# Convert to int\n",
    "Y_val_str = Y_val.astype(int)"
   ]
  }
 ],
 "metadata": {
  "kernelspec": {
   "display_name": "Python 3 (ipykernel)",
   "language": "python",
   "name": "python3"
  },
  "language_info": {
   "codemirror_mode": {
    "name": "ipython",
    "version": 3
   },
   "file_extension": ".py",
   "mimetype": "text/x-python",
   "name": "python",
   "nbconvert_exporter": "python",
   "pygments_lexer": "ipython3",
   "version": "3.9.12"
  }
 },
 "nbformat": 4,
 "nbformat_minor": 5
}
