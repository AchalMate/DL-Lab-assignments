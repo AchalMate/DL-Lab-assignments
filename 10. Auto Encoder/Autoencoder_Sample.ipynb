{
 "cells": [
  {
   "cell_type": "code",
   "execution_count": 1,
   "metadata": {
    "id": "Ot2Z9YANy4GS"
   },
   "outputs": [],
   "source": [
    "import numpy as np\n",
    "import matplotlib.pyplot as plt\n",
    "from random import randint\n",
    "from keras import backend as K\n",
    "from keras.layers import Input, Dense, Conv2D, MaxPooling2D, UpSampling2D\n",
    "from keras.models import Model\n",
    "from keras.datasets import mnist\n",
    "from keras.callbacks import TensorBoard"
   ]
  },
  {
   "cell_type": "code",
   "execution_count": 2,
   "metadata": {
    "id": "CfiEwRG34L1c"
   },
   "outputs": [],
   "source": [
    "input_image = Input(shape =(28, 28, 1))\n",
    "(X_train, _), (X_test, _) = mnist.load_data()\n",
    "X_train = X_train.astype('float32') / 255.\n",
    "X_train = np.reshape(X_train, (len(X_train), 28, 28, 1))\n",
    "X_test = X_test.astype('float32') / 255.\n",
    "X_test = np.reshape(X_test, (len(X_test), 28, 28, 1))\n"
   ]
  },
  {
   "cell_type": "code",
   "execution_count": 3,
   "metadata": {
    "id": "WZcyQ9Yq62M2"
   },
   "outputs": [],
   "source": [
    "def build_network(input_image):\n",
    "      \n",
    "    # Building the encoder of the Auto-encoder\n",
    "    x = Conv2D(16, (3, 3), activation ='relu', padding ='same')(input_image)\n",
    "    x = MaxPooling2D((2, 2), padding ='same')(x)\n",
    "    x = Conv2D(8, (3, 3), activation ='relu', padding ='same')(x)\n",
    "    x = MaxPooling2D((2, 2), padding ='same')(x)\n",
    "    x = Conv2D(8, (3, 3), activation ='relu', padding ='same')(x)\n",
    "    encoded_layer = MaxPooling2D((2, 2), padding ='same')(x)\n",
    "      \n",
    "    # Building the decoder of the Auto-encoder\n",
    "    x = Conv2D(8, (3, 3), activation ='relu', padding ='same')(encoded_layer)\n",
    "    x = UpSampling2D((2, 2))(x)\n",
    "    x = Conv2D(8, (3, 3), activation ='relu', padding ='same')(x)\n",
    "    x = UpSampling2D((2, 2))(x)\n",
    "    x = Conv2D(16, (3, 3), activation ='relu')(x)\n",
    "    x = UpSampling2D((2, 2))(x)\n",
    "    decoded_layer = Conv2D(1, (3, 3), activation ='sigmoid', padding ='same')(x)\n",
    "      \n",
    "    return decoded_layer"
   ]
  },
  {
   "cell_type": "code",
   "execution_count": 4,
   "metadata": {},
   "outputs": [],
   "source": [
    "decoded_layer = build_network(input_image)"
   ]
  },
  {
   "cell_type": "code",
   "execution_count": 8,
   "metadata": {
    "id": "fSW-tI8A7Evz"
   },
   "outputs": [],
   "source": [
    "def build_auto_encoder_model(X_train, X_test, input_image, decoded_layer):\n",
    "    autoencoder = Model(input_image, decoded_layer)\n",
    "    autoencoder.compile(optimizer ='adam', loss ='binary_crossentropy')\n",
    "      \n",
    "    # Training the Auto-encoder\n",
    "    autoencoder.fit(X_train, X_train,\n",
    "                epochs = 15,\n",
    "                batch_size = 256,\n",
    "                shuffle = True,\n",
    "                validation_data =(X_test, X_test),\n",
    "                )\n",
    "      \n",
    "    return autoencoder"
   ]
  },
  {
   "cell_type": "code",
   "execution_count": 9,
   "metadata": {
    "id": "xDuJ-op9SZTd"
   },
   "outputs": [],
   "source": [
    "def visualize(model, X_test):\n",
    "      \n",
    "    # Reconstructing the encoded images\n",
    "    reconstructed_images = model.predict(X_test)\n",
    "      \n",
    "    plt.figure(figsize =(20, 4))\n",
    "    for i in range(1, 11):\n",
    "          \n",
    "        # Generating a random to get random results\n",
    "        rand_num = randint(0, 10001)\n",
    "      \n",
    "        # To display the original image\n",
    "        ax = plt.subplot(2, 10, i)\n",
    "        plt.imshow(X_test[rand_num].reshape(28, 28))\n",
    "        plt.gray()\n",
    "        ax.get_xaxis().set_visible(False)\n",
    "        ax.get_yaxis().set_visible(False)\n",
    "  \n",
    "        # To display the reconstructed image\n",
    "        ax = plt.subplot(2, 10, i + 10)\n",
    "        plt.imshow(reconstructed_images[rand_num].reshape(28, 28))\n",
    "        plt.gray()\n",
    "        ax.get_xaxis().set_visible(False)\n",
    "        ax.get_yaxis().set_visible(False)\n",
    "          \n",
    "    # Displaying the plot\n",
    "    plt.show()"
   ]
  },
  {
   "cell_type": "code",
   "execution_count": 10,
   "metadata": {
    "colab": {
     "base_uri": "https://localhost:8080/"
    },
    "id": "f0QvgxGsSeb2",
    "outputId": "a74708f4-be73-4dfe-ea1f-1ce87cc1a47d"
   },
   "outputs": [
    {
     "name": "stdout",
     "output_type": "stream",
     "text": [
      "Epoch 1/15\n",
      "235/235 [==============================] - 47s 195ms/step - loss: 0.2466 - val_loss: 0.1664\n",
      "Epoch 2/15\n",
      "235/235 [==============================] - 48s 203ms/step - loss: 0.1550 - val_loss: 0.1446\n",
      "Epoch 3/15\n",
      "235/235 [==============================] - 47s 202ms/step - loss: 0.1397 - val_loss: 0.1329\n",
      "Epoch 4/15\n",
      "235/235 [==============================] - 47s 201ms/step - loss: 0.1302 - val_loss: 0.1255\n",
      "Epoch 5/15\n",
      "235/235 [==============================] - 48s 202ms/step - loss: 0.1241 - val_loss: 0.1201\n",
      "Epoch 6/15\n",
      "235/235 [==============================] - 50s 214ms/step - loss: 0.1196 - val_loss: 0.1167\n",
      "Epoch 7/15\n",
      "235/235 [==============================] - 48s 203ms/step - loss: 0.1165 - val_loss: 0.1140\n",
      "Epoch 8/15\n",
      "235/235 [==============================] - 48s 205ms/step - loss: 0.1141 - val_loss: 0.1118\n",
      "Epoch 9/15\n",
      "235/235 [==============================] - 48s 205ms/step - loss: 0.1121 - val_loss: 0.1102\n",
      "Epoch 10/15\n",
      "235/235 [==============================] - 49s 210ms/step - loss: 0.1107 - val_loss: 0.1090\n",
      "Epoch 11/15\n",
      "235/235 [==============================] - 49s 208ms/step - loss: 0.1095 - val_loss: 0.1077\n",
      "Epoch 12/15\n",
      "235/235 [==============================] - 49s 207ms/step - loss: 0.1083 - val_loss: 0.1065\n",
      "Epoch 13/15\n",
      "235/235 [==============================] - 51s 218ms/step - loss: 0.1073 - val_loss: 0.1054\n",
      "Epoch 14/15\n",
      "235/235 [==============================] - 49s 210ms/step - loss: 0.1064 - val_loss: 0.1050\n",
      "Epoch 15/15\n",
      "235/235 [==============================] - 51s 215ms/step - loss: 0.1056 - val_loss: 0.1041\n"
     ]
    }
   ],
   "source": [
    "auto_encoder_model = build_auto_encoder_model(X_train,X_test,input_image,decoded_layer)"
   ]
  },
  {
   "cell_type": "code",
   "execution_count": 11,
   "metadata": {
    "colab": {
     "base_uri": "https://localhost:8080/",
     "height": 266
    },
    "id": "BoNlj4A6S2ye",
    "outputId": "f41fe315-dcd5-4b32-e7fc-16494f5f05ae"
   },
   "outputs": [
    {
     "name": "stdout",
     "output_type": "stream",
     "text": [
      "313/313 [==============================] - 4s 12ms/step\n"
     ]
    },
    {
     "data": {
      "image/png": "[encoded data removed]",
      "text/plain": [
       "<Figure size 1440x288 with 20 Axes>"
      ]
     },
     "metadata": {
      "needs_background": "light"
     },
     "output_type": "display_data"
    }
   ],
   "source": [
    "visualize(auto_encoder_model, X_test)"
   ]
  },
  {
   "cell_type": "code",
   "execution_count": null,
   "metadata": {},
   "outputs": [],
   "source": []
  }
 ],
 "metadata": {
  "accelerator": "GPU",
  "colab": {
   "provenance": []
  },
  "gpuClass": "standard",
  "kernelspec": {
   "display_name": "Python 3 (ipykernel)",
   "language": "python",
   "name": "python3"
  },
  "language_info": {
   "codemirror_mode": {
    "name": "ipython",
    "version": 3
   },
   "file_extension": ".py",
   "mimetype": "text/x-python",
   "name": "python",
   "nbconvert_exporter": "python",
   "pygments_lexer": "ipython3",
   "version": "3.9.12"
  }
 },
 "nbformat": 4,
 "nbformat_minor": 1
}
