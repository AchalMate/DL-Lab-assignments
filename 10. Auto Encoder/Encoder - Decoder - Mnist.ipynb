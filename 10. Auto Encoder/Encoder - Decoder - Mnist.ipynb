{
 "cells": [
  {
   "cell_type": "markdown",
   "id": "d6a639a4",
   "metadata": {},
   "source": [
    "### Import all necessary library"
   ]
  },
  {
   "cell_type": "code",
   "execution_count": 19,
   "id": "b2f05023",
   "metadata": {},
   "outputs": [],
   "source": [
    "import numpy as np\n",
    "import matplotlib.pyplot as plt\n",
    "import warnings\n",
    "warnings.filterwarnings('ignore')\n",
    "from random import randint\n",
    "from keras.models import Sequential\n",
    "from keras.layers import Dense, Conv2D, MaxPooling2D, UpSampling2D\n",
    "from keras.datasets import mnist\n",
    "from keras import Input, Model"
   ]
  },
  {
   "cell_type": "code",
   "execution_count": 2,
   "id": "63ac0e17",
   "metadata": {},
   "outputs": [
    {
     "data": {
      "text/plain": [
       "((60000, 28, 28), (60000,), (10000, 28, 28), (10000,))"
      ]
     },
     "execution_count": 2,
     "metadata": {},
     "output_type": "execute_result"
    }
   ],
   "source": [
    "(X_train, y_train), (X_test,y_test) = mnist.load_data()\n",
    "X_train.shape , y_train.shape, X_test.shape, y_test.shape"
   ]
  },
  {
   "cell_type": "code",
   "execution_count": 3,
   "id": "5a769f05",
   "metadata": {},
   "outputs": [
    {
     "name": "stdout",
     "output_type": "stream",
     "text": [
      "255\n",
      "0\n",
      "1.0\n",
      "0.0\n"
     ]
    }
   ],
   "source": [
    "print(X_train.max())\n",
    "print(X_train.min())\n",
    "X_train = X_train/255.0\n",
    "X_test = X_test/255.0\n",
    "print(X_train.max())\n",
    "print(X_train.min())"
   ]
  },
  {
   "cell_type": "code",
   "execution_count": 4,
   "id": "1860c993",
   "metadata": {},
   "outputs": [
    {
     "data": {
      "text/plain": [
       "(60000, 28, 28, 1)"
      ]
     },
     "execution_count": 4,
     "metadata": {},
     "output_type": "execute_result"
    }
   ],
   "source": [
    "X_train = np.expand_dims(X_train,-1)\n",
    "X_test = np.expand_dims(X_test,-1)\n",
    "X_train.shape"
   ]
  },
  {
   "cell_type": "code",
   "execution_count": 5,
   "id": "45334714",
   "metadata": {},
   "outputs": [],
   "source": [
    "def build_network(input_image):\n",
    "      \n",
    "    # Building the encoder of the Auto-encoder\n",
    "    x = Conv2D(16, (3, 3), activation ='relu', padding ='same')(input_image)\n",
    "    x = MaxPooling2D((2, 2), padding ='same')(x)\n",
    "    x = Conv2D(8, (3, 3), activation ='relu', padding ='same')(x)\n",
    "    x = MaxPooling2D((2, 2), padding ='same')(x)\n",
    "    x = Conv2D(8, (3, 3), activation ='relu', padding ='same')(x)\n",
    "    encoded_layer = MaxPooling2D((2, 2), padding ='same')(x)\n",
    "      \n",
    "    # Building the decoder of the Auto-encoder\n",
    "    x = Conv2D(8, (3, 3), activation ='relu', padding ='same')(encoded_layer)\n",
    "    x = UpSampling2D((2, 2))(x)\n",
    "    x = Conv2D(8, (3, 3), activation ='relu', padding ='same')(x)\n",
    "    x = UpSampling2D((2, 2))(x)\n",
    "    x = Conv2D(16, (3, 3), activation ='relu')(x)\n",
    "    x = UpSampling2D((2, 2))(x)\n",
    "    decoded_layer = Conv2D(1, (3, 3), activation ='sigmoid', padding ='same')(x)\n",
    "      \n",
    "    return decoded_layer"
   ]
  },
  {
   "cell_type": "code",
   "execution_count": 6,
   "id": "486bea2e",
   "metadata": {},
   "outputs": [],
   "source": [
    "input_image = Input(shape =(28, 28, 1))"
   ]
  },
  {
   "cell_type": "code",
   "execution_count": 7,
   "id": "62257fdd",
   "metadata": {},
   "outputs": [],
   "source": [
    "decoded_layer = build_network(input_image)"
   ]
  },
  {
   "cell_type": "code",
   "execution_count": 8,
   "id": "0892c1a7",
   "metadata": {},
   "outputs": [],
   "source": [
    "autoencoder = Model(input_image, decoded_layer)\n",
    "autoencoder.compile(optimizer ='adam', loss ='binary_crossentropy')"
   ]
  },
  {
   "cell_type": "code",
   "execution_count": 9,
   "id": "776910b3",
   "metadata": {},
   "outputs": [
    {
     "name": "stdout",
     "output_type": "stream",
     "text": [
      "Model: \"model\"\n",
      "_________________________________________________________________\n",
      " Layer (type)                Output Shape              Param #   \n",
      "=================================================================\n",
      " input_1 (InputLayer)        [(None, 28, 28, 1)]       0         \n",
      "                                                                 \n",
      " conv2d (Conv2D)             (None, 28, 28, 16)        160       \n",
      "                                                                 \n",
      " max_pooling2d (MaxPooling2D  (None, 14, 14, 16)       0         \n",
      " )                                                               \n",
      "                                                                 \n",
      " conv2d_1 (Conv2D)           (None, 14, 14, 8)         1160      \n",
      "                                                                 \n",
      " max_pooling2d_1 (MaxPooling  (None, 7, 7, 8)          0         \n",
      " 2D)                                                             \n",
      "                                                                 \n",
      " conv2d_2 (Conv2D)           (None, 7, 7, 8)           584       \n",
      "                                                                 \n",
      " max_pooling2d_2 (MaxPooling  (None, 4, 4, 8)          0         \n",
      " 2D)                                                             \n",
      "                                                                 \n",
      " conv2d_3 (Conv2D)           (None, 4, 4, 8)           584       \n",
      "                                                                 \n",
      " up_sampling2d (UpSampling2D  (None, 8, 8, 8)          0         \n",
      " )                                                               \n",
      "                                                                 \n",
      " conv2d_4 (Conv2D)           (None, 8, 8, 8)           584       \n",
      "                                                                 \n",
      " up_sampling2d_1 (UpSampling  (None, 16, 16, 8)        0         \n",
      " 2D)                                                             \n",
      "                                                                 \n",
      " conv2d_5 (Conv2D)           (None, 14, 14, 16)        1168      \n",
      "                                                                 \n",
      " up_sampling2d_2 (UpSampling  (None, 28, 28, 16)       0         \n",
      " 2D)                                                             \n",
      "                                                                 \n",
      " conv2d_6 (Conv2D)           (None, 28, 28, 1)         145       \n",
      "                                                                 \n",
      "=================================================================\n",
      "Total params: 4,385\n",
      "Trainable params: 4,385\n",
      "Non-trainable params: 0\n",
      "_________________________________________________________________\n"
     ]
    }
   ],
   "source": [
    "autoencoder.summary()"
   ]
  },
  {
   "cell_type": "code",
   "execution_count": 10,
   "id": "4cdde1f7",
   "metadata": {},
   "outputs": [
    {
     "name": "stdout",
     "output_type": "stream",
     "text": [
      "Epoch 1/10\n",
      "235/235 [==============================] - 51s 214ms/step - loss: 0.2801 - val_loss: 0.1704\n",
      "Epoch 2/10\n",
      "235/235 [==============================] - 51s 216ms/step - loss: 0.1545 - val_loss: 0.1419\n",
      "Epoch 3/10\n",
      "235/235 [==============================] - 47s 202ms/step - loss: 0.1358 - val_loss: 0.1290\n",
      "Epoch 4/10\n",
      "235/235 [==============================] - 50s 213ms/step - loss: 0.1265 - val_loss: 0.1220\n",
      "Epoch 5/10\n",
      "235/235 [==============================] - 48s 205ms/step - loss: 0.1212 - val_loss: 0.1178\n",
      "Epoch 6/10\n",
      "235/235 [==============================] - 47s 201ms/step - loss: 0.1175 - val_loss: 0.1150\n",
      "Epoch 7/10\n",
      "235/235 [==============================] - 44s 188ms/step - loss: 0.1147 - val_loss: 0.1121\n",
      "Epoch 8/10\n",
      "235/235 [==============================] - 45s 192ms/step - loss: 0.1125 - val_loss: 0.1107\n",
      "Epoch 9/10\n",
      "235/235 [==============================] - 47s 202ms/step - loss: 0.1107 - val_loss: 0.1091\n",
      "Epoch 10/10\n",
      "235/235 [==============================] - 46s 196ms/step - loss: 0.1092 - val_loss: 0.1073\n"
     ]
    }
   ],
   "source": [
    "history = autoencoder.fit(X_train,X_train,epochs=10,batch_size=256, shuffle=True, validation_data=(X_test,X_test))"
   ]
  },
  {
   "cell_type": "code",
   "execution_count": 13,
   "id": "62ed8674",
   "metadata": {},
   "outputs": [
    {
     "name": "stdout",
     "output_type": "stream",
     "text": [
      "Training Accuracy\n",
      "1875/1875 [==============================] - 30s 16ms/step - loss: 0.1086\n",
      "0.10860859602689743\n",
      "Test accuracy\n",
      "313/313 [==============================] - 4s 14ms/step - loss: 0.1073\n",
      "0.10733791440725327\n"
     ]
    }
   ],
   "source": [
    "print(\"Training Accuracy\")\n",
    "print(autoencoder.evaluate(X_train,X_train))\n",
    "print(\"Test accuracy\")\n",
    "print(autoencoder.evaluate(X_test,X_test))"
   ]
  },
  {
   "cell_type": "code",
   "execution_count": 14,
   "id": "712cdcd3",
   "metadata": {},
   "outputs": [
    {
     "name": "stdout",
     "output_type": "stream",
     "text": [
      "313/313 [==============================] - 5s 14ms/step\n"
     ]
    }
   ],
   "source": [
    "pred = autoencoder.predict(X_test)"
   ]
  },
  {
   "cell_type": "code",
   "execution_count": 15,
   "id": "c2fcd612",
   "metadata": {},
   "outputs": [
    {
     "data": {
      "text/plain": [
       "<matplotlib.image.AxesImage at 0x1ee81ef0940>"
      ]
     },
     "execution_count": 15,
     "metadata": {},
     "output_type": "execute_result"
    },
    {
     "data": {
      "image/png": "[encoded data removed]",
      "text/plain": [
       "<Figure size 432x288 with 1 Axes>"
      ]
     },
     "metadata": {
      "needs_background": "light"
     },
     "output_type": "display_data"
    }
   ],
   "source": [
    "plt.imshow(X_test[0])"
   ]
  },
  {
   "cell_type": "code",
   "execution_count": 16,
   "id": "4acd6a1d",
   "metadata": {},
   "outputs": [
    {
     "data": {
      "text/plain": [
       "<matplotlib.image.AxesImage at 0x1ee8266dc40>"
      ]
     },
     "execution_count": 16,
     "metadata": {},
     "output_type": "execute_result"
    },
    {
     "data": {
      "image/png": "[encoded data removed]",
      "text/plain": [
       "<Figure size 432x288 with 1 Axes>"
      ]
     },
     "metadata": {
      "needs_background": "light"
     },
     "output_type": "display_data"
    }
   ],
   "source": [
    "plt.imshow(pred[0])"
   ]
  },
  {
   "cell_type": "code",
   "execution_count": 17,
   "id": "e3a9f184",
   "metadata": {},
   "outputs": [],
   "source": [
    "def visualize(model, X_test):\n",
    "      \n",
    "    # Reconstructing the encoded images\n",
    "    reconstructed_images = model.predict(X_test)\n",
    "      \n",
    "    plt.figure(figsize =(20, 4))\n",
    "    for i in range(1, 11):\n",
    "          \n",
    "        # Generating a random to get random results\n",
    "        rand_num = randint(0, 10001)\n",
    "      \n",
    "        # To display the original image\n",
    "        ax = plt.subplot(2, 10, i)\n",
    "        plt.imshow(X_test[rand_num].reshape(28, 28))\n",
    "        plt.gray()\n",
    "        ax.get_xaxis().set_visible(False)\n",
    "        ax.get_yaxis().set_visible(False)\n",
    "  \n",
    "        # To display the reconstructed image\n",
    "        ax = plt.subplot(2, 10, i + 10)\n",
    "        plt.imshow(reconstructed_images[rand_num].reshape(28, 28))\n",
    "        plt.gray()\n",
    "        ax.get_xaxis().set_visible(False)\n",
    "        ax.get_yaxis().set_visible(False)\n",
    "          \n",
    "    # Displaying the plot\n",
    "    plt.show()"
   ]
  },
  {
   "cell_type": "code",
   "execution_count": 20,
   "id": "0c7c1878",
   "metadata": {},
   "outputs": [
    {
     "name": "stdout",
     "output_type": "stream",
     "text": [
      "313/313 [==============================] - 4s 14ms/step\n"
     ]
    },
    {
     "data": {
      "image/png": "[encoded data removed]",
      "text/plain": [
       "<Figure size 1440x288 with 20 Axes>"
      ]
     },
     "metadata": {
      "needs_background": "light"
     },
     "output_type": "display_data"
    }
   ],
   "source": [
    "visualize(autoencoder, X_test)"
   ]
  }
 ],
 "metadata": {
  "kernelspec": {
   "display_name": "Python 3 (ipykernel)",
   "language": "python",
   "name": "python3"
  },
  "language_info": {
   "codemirror_mode": {
    "name": "ipython",
    "version": 3
   },
   "file_extension": ".py",
   "mimetype": "text/x-python",
   "name": "python",
   "nbconvert_exporter": "python",
   "pygments_lexer": "ipython3",
   "version": "3.9.12"
  }
 },
 "nbformat": 4,
 "nbformat_minor": 5
}
