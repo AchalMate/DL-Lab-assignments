{
 "cells": [
  {
   "cell_type": "markdown",
   "metadata": {
    "papermill": {
     "duration": 0.018086,
     "end_time": "2022-10-06T14:46:36.133876",
     "exception": false,
     "start_time": "2022-10-06T14:46:36.115790",
     "status": "completed"
    },
    "tags": []
   },
   "source": [
    "### Import libraries"
   ]
  },
  {
   "cell_type": "code",
   "execution_count": 1,
   "metadata": {
    "_cell_guid": "b1076dfc-b9ad-4769-8c92-a6c4dae69d19",
    "_uuid": "8f2839f25d086af736a60e9eeb907d3b93b6e0e5",
    "execution": {
     "iopub.execute_input": "2022-10-06T14:46:36.177539Z",
     "iopub.status.busy": "2022-10-06T14:46:36.176708Z",
     "iopub.status.idle": "2022-10-06T14:46:42.911401Z",
     "shell.execute_reply": "2022-10-06T14:46:42.910662Z",
     "shell.execute_reply.started": "2022-10-06T14:25:44.013421Z"
    },
    "papermill": {
     "duration": 6.759473,
     "end_time": "2022-10-06T14:46:42.911649",
     "exception": false,
     "start_time": "2022-10-06T14:46:36.152176",
     "status": "completed"
    },
    "tags": []
   },
   "outputs": [],
   "source": [
    "import numpy as np\n",
    "import pandas as pd\n",
    "import os\n",
    "import matplotlib.pyplot as plt\n",
    "import datetime as dt\n",
    "from sklearn.preprocessing import MinMaxScaler\n",
    "from tensorflow.keras.models import Sequential\n",
    "from tensorflow.keras.layers import Dense, Dropout, LSTM\n",
    "from tensorflow.keras.callbacks import ModelCheckpoint, EarlyStopping"
   ]
  },
  {
   "cell_type": "code",
   "execution_count": 2,
   "metadata": {
    "execution": {
     "iopub.execute_input": "2022-10-06T14:46:43.029531Z",
     "iopub.status.busy": "2022-10-06T14:46:43.028816Z",
     "iopub.status.idle": "2022-10-06T14:46:43.267050Z",
     "shell.execute_reply": "2022-10-06T14:46:43.266391Z",
     "shell.execute_reply.started": "2022-10-06T14:35:19.770217Z"
    },
    "papermill": {
     "duration": 0.263437,
     "end_time": "2022-10-06T14:46:43.267252",
     "exception": false,
     "start_time": "2022-10-06T14:46:43.003815",
     "status": "completed"
    },
    "tags": []
   },
   "outputs": [
    {
     "name": "stdout",
     "output_type": "stream",
     "text": [
      "shape of dataset is  (97648, 8)\n"
     ]
    },
    {
     "data": {
      "text/html": [
       "<div>\n",
       "<style scoped>\n",
       "    .dataframe tbody tr th:only-of-type {\n",
       "        vertical-align: middle;\n",
       "    }\n",
       "\n",
       "    .dataframe tbody tr th {\n",
       "        vertical-align: top;\n",
       "    }\n",
       "\n",
       "    .dataframe thead th {\n",
       "        text-align: right;\n",
       "    }\n",
       "</style>\n",
       "<table border=\"1\" class=\"dataframe\">\n",
       "  <thead>\n",
       "    <tr style=\"text-align: right;\">\n",
       "      <th></th>\n",
       "      <th>Unnamed: 0</th>\n",
       "      <th>Name</th>\n",
       "      <th>Date</th>\n",
       "      <th>Open</th>\n",
       "      <th>Closing_Price</th>\n",
       "      <th>Daily_High</th>\n",
       "      <th>Daily_Low</th>\n",
       "      <th>Volume</th>\n",
       "    </tr>\n",
       "  </thead>\n",
       "  <tbody>\n",
       "    <tr>\n",
       "      <th>0</th>\n",
       "      <td>0</td>\n",
       "      <td>Accor</td>\n",
       "      <td>2020-04-03</td>\n",
       "      <td>22.99</td>\n",
       "      <td>23.40</td>\n",
       "      <td>23.40</td>\n",
       "      <td>22.99</td>\n",
       "      <td>67</td>\n",
       "    </tr>\n",
       "    <tr>\n",
       "      <th>1</th>\n",
       "      <td>1</td>\n",
       "      <td>Accor</td>\n",
       "      <td>2020-04-02</td>\n",
       "      <td>23.91</td>\n",
       "      <td>22.99</td>\n",
       "      <td>23.91</td>\n",
       "      <td>22.99</td>\n",
       "      <td>250</td>\n",
       "    </tr>\n",
       "    <tr>\n",
       "      <th>2</th>\n",
       "      <td>2</td>\n",
       "      <td>Accor</td>\n",
       "      <td>2020-04-01</td>\n",
       "      <td>24.10</td>\n",
       "      <td>23.83</td>\n",
       "      <td>24.10</td>\n",
       "      <td>23.83</td>\n",
       "      <td>37</td>\n",
       "    </tr>\n",
       "    <tr>\n",
       "      <th>3</th>\n",
       "      <td>3</td>\n",
       "      <td>Accor</td>\n",
       "      <td>2020-03-31</td>\n",
       "      <td>25.04</td>\n",
       "      <td>25.00</td>\n",
       "      <td>25.24</td>\n",
       "      <td>24.99</td>\n",
       "      <td>336</td>\n",
       "    </tr>\n",
       "    <tr>\n",
       "      <th>4</th>\n",
       "      <td>4</td>\n",
       "      <td>Accor</td>\n",
       "      <td>2020-03-30</td>\n",
       "      <td>26.50</td>\n",
       "      <td>25.02</td>\n",
       "      <td>26.50</td>\n",
       "      <td>24.99</td>\n",
       "      <td>415</td>\n",
       "    </tr>\n",
       "  </tbody>\n",
       "</table>\n",
       "</div>"
      ],
      "text/plain": [
       "   Unnamed: 0   Name       Date   Open  Closing_Price  Daily_High  Daily_Low  \\\n",
       "0           0  Accor 2020-04-03  22.99          23.40       23.40      22.99   \n",
       "1           1  Accor 2020-04-02  23.91          22.99       23.91      22.99   \n",
       "2           2  Accor 2020-04-01  24.10          23.83       24.10      23.83   \n",
       "3           3  Accor 2020-03-31  25.04          25.00       25.24      24.99   \n",
       "4           4  Accor 2020-03-30  26.50          25.02       26.50      24.99   \n",
       "\n",
       "  Volume  \n",
       "0     67  \n",
       "1    250  \n",
       "2     37  \n",
       "3    336  \n",
       "4    415  "
      ]
     },
     "execution_count": 2,
     "metadata": {},
     "output_type": "execute_result"
    }
   ],
   "source": [
    "df = pd.read_csv(r'D:\\DataSets\\Google Stock Price Prediction\\preprocessed_CAC40.csv', parse_dates=['Date'])\n",
    "print(\"shape of dataset is \",df.shape)\n",
    "df.head()"
   ]
  },
  {
   "cell_type": "code",
   "execution_count": 3,
   "metadata": {},
   "outputs": [
    {
     "name": "stdout",
     "output_type": "stream",
     "text": [
      "<class 'pandas.core.frame.DataFrame'>\n",
      "RangeIndex: 97648 entries, 0 to 97647\n",
      "Data columns (total 8 columns):\n",
      " #   Column         Non-Null Count  Dtype         \n",
      "---  ------         --------------  -----         \n",
      " 0   Unnamed: 0     97648 non-null  int64         \n",
      " 1   Name           97648 non-null  object        \n",
      " 2   Date           97648 non-null  datetime64[ns]\n",
      " 3   Open           97418 non-null  float64       \n",
      " 4   Closing_Price  97646 non-null  float64       \n",
      " 5   Daily_High     97444 non-null  float64       \n",
      " 6   Daily_Low      97444 non-null  float64       \n",
      " 7   Volume         77195 non-null  object        \n",
      "dtypes: datetime64[ns](1), float64(4), int64(1), object(2)\n",
      "memory usage: 6.0+ MB\n"
     ]
    }
   ],
   "source": [
    "df.info()"
   ]
  },
  {
   "cell_type": "code",
   "execution_count": 4,
   "metadata": {},
   "outputs": [
    {
     "data": {
      "text/plain": [
       "Index(['Name', 'Date', 'Open', 'Closing_Price', 'Daily_High', 'Daily_Low',\n",
       "       'Volume'],\n",
       "      dtype='object')"
      ]
     },
     "execution_count": 4,
     "metadata": {},
     "output_type": "execute_result"
    }
   ],
   "source": [
    "df.drop(['Unnamed: 0'],axis = 1,inplace = True)\n",
    "df.columns"
   ]
  },
  {
   "cell_type": "code",
   "execution_count": 5,
   "metadata": {
    "execution": {
     "iopub.execute_input": "2022-10-06T14:46:43.312589Z",
     "iopub.status.busy": "2022-10-06T14:46:43.311688Z",
     "iopub.status.idle": "2022-10-06T14:46:43.314192Z",
     "shell.execute_reply": "2022-10-06T14:46:43.313581Z",
     "shell.execute_reply.started": "2022-10-06T14:35:19.988795Z"
    },
    "papermill": {
     "duration": 0.02727,
     "end_time": "2022-10-06T14:46:43.314352",
     "exception": false,
     "start_time": "2022-10-06T14:46:43.287082",
     "status": "completed"
    },
    "tags": []
   },
   "outputs": [],
   "source": [
    "def load_data(company, start, end):\n",
    "    dataframe = df.copy()\n",
    "    dataframe = dataframe.loc[dataframe.Name == company, :]\n",
    "    dataframe = dataframe.loc[(dataframe['Date'] > start) & (dataframe['Date'] < end), :]\n",
    "    dataframe = dataframe.rename(columns = {'Closing_Price': 'Close'})\n",
    "    return dataframe"
   ]
  },
  {
   "cell_type": "code",
   "execution_count": 6,
   "metadata": {
    "execution": {
     "iopub.execute_input": "2022-10-06T14:46:43.357713Z",
     "iopub.status.busy": "2022-10-06T14:46:43.356599Z",
     "iopub.status.idle": "2022-10-06T14:46:43.359286Z",
     "shell.execute_reply": "2022-10-06T14:46:43.359906Z",
     "shell.execute_reply.started": "2022-10-06T14:35:21.146253Z"
    },
    "papermill": {
     "duration": 0.026836,
     "end_time": "2022-10-06T14:46:43.360084",
     "exception": false,
     "start_time": "2022-10-06T14:46:43.333248",
     "status": "completed"
    },
    "tags": []
   },
   "outputs": [
    {
     "data": {
      "text/plain": [
       "datetime.datetime(2020, 1, 1, 0, 0)"
      ]
     },
     "execution_count": 6,
     "metadata": {},
     "output_type": "execute_result"
    }
   ],
   "source": [
    "COMPANY = 'Accor'\n",
    "START_DATE = dt.datetime(2015,1,1)\n",
    "END_DATE = dt.datetime(2020,1,1)\n",
    "START_DATE_TEST = END_DATE\n",
    "START_DATE_TEST"
   ]
  },
  {
   "cell_type": "code",
   "execution_count": 7,
   "metadata": {
    "execution": {
     "iopub.execute_input": "2022-10-06T14:46:43.400887Z",
     "iopub.status.busy": "2022-10-06T14:46:43.399943Z",
     "iopub.status.idle": "2022-10-06T14:46:43.432092Z",
     "shell.execute_reply": "2022-10-06T14:46:43.432644Z"
    },
    "papermill": {
     "duration": 0.054108,
     "end_time": "2022-10-06T14:46:43.432834",
     "exception": false,
     "start_time": "2022-10-06T14:46:43.378726",
     "status": "completed"
    },
    "tags": []
   },
   "outputs": [],
   "source": [
    "data = load_data(company = COMPANY,start = START_DATE,end = END_DATE)"
   ]
  },
  {
   "cell_type": "code",
   "execution_count": 8,
   "metadata": {
    "execution": {
     "iopub.execute_input": "2022-10-06T14:46:43.476264Z",
     "iopub.status.busy": "2022-10-06T14:46:43.475570Z",
     "iopub.status.idle": "2022-10-06T14:46:43.479237Z",
     "shell.execute_reply": "2022-10-06T14:46:43.478750Z",
     "shell.execute_reply.started": "2022-10-06T14:35:22.648891Z"
    },
    "papermill": {
     "duration": 0.027851,
     "end_time": "2022-10-06T14:46:43.479408",
     "exception": false,
     "start_time": "2022-10-06T14:46:43.451557",
     "status": "completed"
    },
    "tags": []
   },
   "outputs": [],
   "source": [
    "scaler = MinMaxScaler(feature_range=(0,1))\n",
    "scaled_data = scaler.fit_transform(data['Close'].values.reshape(-1,1))"
   ]
  },
  {
   "cell_type": "code",
   "execution_count": 9,
   "metadata": {
    "execution": {
     "iopub.execute_input": "2022-10-06T14:46:43.524040Z",
     "iopub.status.busy": "2022-10-06T14:46:43.523379Z",
     "iopub.status.idle": "2022-10-06T14:46:43.527152Z",
     "shell.execute_reply": "2022-10-06T14:46:43.528002Z",
     "shell.execute_reply.started": "2022-10-06T14:35:34.808760Z"
    },
    "papermill": {
     "duration": 0.030311,
     "end_time": "2022-10-06T14:46:43.528222",
     "exception": false,
     "start_time": "2022-10-06T14:46:43.497911",
     "status": "completed"
    },
    "tags": []
   },
   "outputs": [],
   "source": [
    "# how many days do i want to base my predictions on ?\n",
    "prediction_days = 60\n",
    "x_train = []\n",
    "y_train = []\n",
    "for x in range(prediction_days, len(scaled_data)):\n",
    "    x_train.append(scaled_data[x - prediction_days:x, 0])\n",
    "    y_train.append(scaled_data[x, 0])\n",
    "x_train, y_train = np.array(x_train), np.array(y_train)\n",
    "x_train = np.reshape(x_train, (x_train.shape[0], x_train.shape[1], 1))"
   ]
  },
  {
   "cell_type": "code",
   "execution_count": 10,
   "metadata": {
    "execution": {
     "iopub.execute_input": "2022-10-06T14:46:43.719998Z",
     "iopub.status.busy": "2022-10-06T14:46:43.719249Z",
     "iopub.status.idle": "2022-10-06T14:46:43.725137Z",
     "shell.execute_reply": "2022-10-06T14:46:43.725686Z",
     "shell.execute_reply.started": "2022-10-06T14:35:37.720969Z"
    },
    "papermill": {
     "duration": 0.028311,
     "end_time": "2022-10-06T14:46:43.725884",
     "exception": false,
     "start_time": "2022-10-06T14:46:43.697573",
     "status": "completed"
    },
    "tags": []
   },
   "outputs": [],
   "source": [
    "def LSTM_model():\n",
    "    model = Sequential()\n",
    "    model.add(LSTM(units = 50, return_sequences = True, input_shape = (x_train.shape[1],1)))\n",
    "    model.add(Dropout(0.2))\n",
    "    model.add(LSTM(units = 50, return_sequences = True))\n",
    "    model.add(Dropout(0.2))\n",
    "    model.add(LSTM(units = 50))\n",
    "    model.add(Dropout(0.2))\n",
    "    model.add(Dense(units=1))\n",
    "    return model"
   ]
  },
  {
   "cell_type": "code",
   "execution_count": 11,
   "metadata": {
    "execution": {
     "iopub.execute_input": "2022-10-06T14:46:43.841872Z",
     "iopub.status.busy": "2022-10-06T14:46:43.841141Z",
     "iopub.status.idle": "2022-10-06T14:46:44.699704Z",
     "shell.execute_reply": "2022-10-06T14:46:44.699136Z",
     "shell.execute_reply.started": "2022-10-06T14:35:39.649764Z"
    },
    "papermill": {
     "duration": 0.879694,
     "end_time": "2022-10-06T14:46:44.699856",
     "exception": false,
     "start_time": "2022-10-06T14:46:43.820162",
     "status": "completed"
    },
    "tags": []
   },
   "outputs": [
    {
     "name": "stdout",
     "output_type": "stream",
     "text": [
      "Model: \"sequential\"\n",
      "_________________________________________________________________\n",
      " Layer (type)                Output Shape              Param #   \n",
      "=================================================================\n",
      " lstm (LSTM)                 (None, 60, 50)            10400     \n",
      "                                                                 \n",
      " dropout (Dropout)           (None, 60, 50)            0         \n",
      "                                                                 \n",
      " lstm_1 (LSTM)               (None, 60, 50)            20200     \n",
      "                                                                 \n",
      " dropout_1 (Dropout)         (None, 60, 50)            0         \n",
      "                                                                 \n",
      " lstm_2 (LSTM)               (None, 50)                20200     \n",
      "                                                                 \n",
      " dropout_2 (Dropout)         (None, 50)                0         \n",
      "                                                                 \n",
      " dense (Dense)               (None, 1)                 51        \n",
      "                                                                 \n",
      "=================================================================\n",
      "Total params: 50,851\n",
      "Trainable params: 50,851\n",
      "Non-trainable params: 0\n",
      "_________________________________________________________________\n"
     ]
    }
   ],
   "source": [
    "model = LSTM_model()\n",
    "model.summary()\n",
    "model.compile(optimizer='adam',loss='mean_squared_error')"
   ]
  },
  {
   "cell_type": "code",
   "execution_count": 12,
   "metadata": {
    "execution": {
     "iopub.execute_input": "2022-10-06T14:46:44.743844Z",
     "iopub.status.busy": "2022-10-06T14:46:44.743176Z",
     "iopub.status.idle": "2022-10-06T14:48:02.566321Z",
     "shell.execute_reply": "2022-10-06T14:48:02.566946Z",
     "shell.execute_reply.started": "2022-10-06T14:35:42.464148Z"
    },
    "papermill": {
     "duration": 77.848259,
     "end_time": "2022-10-06T14:48:02.567158",
     "exception": false,
     "start_time": "2022-10-06T14:46:44.718899",
     "status": "completed"
    },
    "tags": []
   },
   "outputs": [
    {
     "name": "stdout",
     "output_type": "stream",
     "text": [
      "Epoch 1/20\n",
      "37/38 [============================>.] - ETA: 0s - loss: 0.0441WARNING:tensorflow:Can save best model only with val_loss available, skipping.\n",
      "38/38 [==============================] - 8s 52ms/step - loss: 0.0436\n",
      "Epoch 2/20\n",
      "37/38 [============================>.] - ETA: 0s - loss: 0.0122WARNING:tensorflow:Can save best model only with val_loss available, skipping.\n",
      "38/38 [==============================] - 2s 51ms/step - loss: 0.0122\n",
      "Epoch 3/20\n",
      "37/38 [============================>.] - ETA: 0s - loss: 0.0098WARNING:tensorflow:Can save best model only with val_loss available, skipping.\n",
      "38/38 [==============================] - 2s 51ms/step - loss: 0.0097\n",
      "Epoch 4/20\n",
      "38/38 [==============================] - ETA: 0s - loss: 0.0090WARNING:tensorflow:Can save best model only with val_loss available, skipping.\n",
      "38/38 [==============================] - 2s 57ms/step - loss: 0.0090\n",
      "Epoch 5/20\n",
      "38/38 [==============================] - ETA: 0s - loss: 0.0092WARNING:tensorflow:Can save best model only with val_loss available, skipping.\n",
      "38/38 [==============================] - 3s 74ms/step - loss: 0.0092\n",
      "Epoch 6/20\n",
      "37/38 [============================>.] - ETA: 0s - loss: 0.0086WARNING:tensorflow:Can save best model only with val_loss available, skipping.\n",
      "38/38 [==============================] - 3s 71ms/step - loss: 0.0085\n",
      "Epoch 7/20\n",
      "38/38 [==============================] - ETA: 0s - loss: 0.0081WARNING:tensorflow:Can save best model only with val_loss available, skipping.\n",
      "38/38 [==============================] - 3s 73ms/step - loss: 0.0081\n",
      "Epoch 8/20\n",
      "38/38 [==============================] - ETA: 0s - loss: 0.0077WARNING:tensorflow:Can save best model only with val_loss available, skipping.\n",
      "38/38 [==============================] - 3s 73ms/step - loss: 0.0077\n",
      "Epoch 9/20\n",
      "37/38 [============================>.] - ETA: 0s - loss: 0.0073WARNING:tensorflow:Can save best model only with val_loss available, skipping.\n",
      "38/38 [==============================] - 3s 73ms/step - loss: 0.0073\n",
      "Epoch 10/20\n",
      "37/38 [============================>.] - ETA: 0s - loss: 0.0074WARNING:tensorflow:Can save best model only with val_loss available, skipping.\n",
      "38/38 [==============================] - 3s 72ms/step - loss: 0.0074\n",
      "Epoch 11/20\n",
      "38/38 [==============================] - ETA: 0s - loss: 0.0077WARNING:tensorflow:Can save best model only with val_loss available, skipping.\n",
      "38/38 [==============================] - 3s 68ms/step - loss: 0.0077\n",
      "Epoch 12/20\n",
      "38/38 [==============================] - ETA: 0s - loss: 0.0070WARNING:tensorflow:Can save best model only with val_loss available, skipping.\n",
      "38/38 [==============================] - 3s 83ms/step - loss: 0.0070\n",
      "Epoch 13/20\n",
      "38/38 [==============================] - ETA: 0s - loss: 0.0066WARNING:tensorflow:Can save best model only with val_loss available, skipping.\n",
      "38/38 [==============================] - 3s 76ms/step - loss: 0.0066\n",
      "Epoch 14/20\n",
      "38/38 [==============================] - ETA: 0s - loss: 0.0065WARNING:tensorflow:Can save best model only with val_loss available, skipping.\n",
      "38/38 [==============================] - 3s 69ms/step - loss: 0.0065\n",
      "Epoch 15/20\n",
      "38/38 [==============================] - ETA: 0s - loss: 0.0060WARNING:tensorflow:Can save best model only with val_loss available, skipping.\n",
      "38/38 [==============================] - 3s 67ms/step - loss: 0.0060\n",
      "Epoch 16/20\n",
      "37/38 [============================>.] - ETA: 0s - loss: 0.0059WARNING:tensorflow:Can save best model only with val_loss available, skipping.\n",
      "38/38 [==============================] - 2s 62ms/step - loss: 0.0059\n",
      "Epoch 17/20\n",
      "37/38 [============================>.] - ETA: 0s - loss: 0.0062WARNING:tensorflow:Can save best model only with val_loss available, skipping.\n",
      "38/38 [==============================] - 3s 70ms/step - loss: 0.0062\n",
      "Epoch 18/20\n",
      "37/38 [============================>.] - ETA: 0s - loss: 0.0060WARNING:tensorflow:Can save best model only with val_loss available, skipping.\n",
      "38/38 [==============================] - 3s 71ms/step - loss: 0.0060\n",
      "Epoch 19/20\n",
      "38/38 [==============================] - ETA: 0s - loss: 0.0056WARNING:tensorflow:Can save best model only with val_loss available, skipping.\n",
      "38/38 [==============================] - 3s 70ms/step - loss: 0.0056\n",
      "Epoch 20/20\n",
      "38/38 [==============================] - ETA: 0s - loss: 0.0059WARNING:tensorflow:Can save best model only with val_loss available, skipping.\n",
      "38/38 [==============================] - 2s 65ms/step - loss: 0.0059\n"
     ]
    },
    {
     "data": {
      "text/plain": [
       "<keras.callbacks.History at 0x1c09a140580>"
      ]
     },
     "execution_count": 12,
     "metadata": {},
     "output_type": "execute_result"
    }
   ],
   "source": [
    "checkpointer = ModelCheckpoint(filepath = 'weights_best.hdf5',verbose = 2, save_best_only = True)\n",
    "model.fit(x_train,y_train,epochs=20,batch_size = 32,callbacks = [checkpointer])"
   ]
  },
  {
   "cell_type": "code",
   "execution_count": 13,
   "metadata": {
    "execution": {
     "iopub.execute_input": "2022-10-06T14:48:04.428710Z",
     "iopub.status.busy": "2022-10-06T14:48:04.428029Z",
     "iopub.status.idle": "2022-10-06T14:48:04.449113Z",
     "shell.execute_reply": "2022-10-06T14:48:04.448593Z",
     "shell.execute_reply.started": "2022-10-06T14:38:25.499878Z"
    },
    "papermill": {
     "duration": 0.332331,
     "end_time": "2022-10-06T14:48:04.449265",
     "exception": false,
     "start_time": "2022-10-06T14:48:04.116934",
     "status": "completed"
    },
    "tags": []
   },
   "outputs": [],
   "source": [
    "# test model accuracy on existing data\n",
    "test_data = load_data(company = COMPANY, start = START_DATE_TEST,end = dt.datetime.now())\n",
    "actual_prices = test_data['Close'].values\n",
    "total_dataset = pd.concat((data['Close'], test_data['Close']), axis=0)\n",
    "\n",
    "model_inputs = total_dataset[len(total_dataset) - len(test_data) - prediction_days:].values\n",
    "model_inputs = model_inputs.reshape(-1,1)\n",
    "model_inputs = scaler.transform(model_inputs)"
   ]
  },
  {
   "cell_type": "code",
   "execution_count": 14,
   "metadata": {
    "execution": {
     "iopub.execute_input": "2022-10-06T14:48:05.046219Z",
     "iopub.status.busy": "2022-10-06T14:48:05.045575Z",
     "iopub.status.idle": "2022-10-06T14:48:06.129056Z",
     "shell.execute_reply": "2022-10-06T14:48:06.128507Z",
     "shell.execute_reply.started": "2022-10-06T14:38:26.855872Z"
    },
    "papermill": {
     "duration": 1.385705,
     "end_time": "2022-10-06T14:48:06.129222",
     "exception": false,
     "start_time": "2022-10-06T14:48:04.743517",
     "status": "completed"
    },
    "tags": []
   },
   "outputs": [
    {
     "name": "stdout",
     "output_type": "stream",
     "text": [
      "3/3 [==============================] - 1s 16ms/step\n"
     ]
    }
   ],
   "source": [
    "x_test = []\n",
    "for x in range(prediction_days, len(model_inputs)):\n",
    "    x_test.append(model_inputs[x-prediction_days:x, 0])\n",
    "\n",
    "x_test = np.array(x_test)\n",
    "x_test = np.reshape(x_test, (x_test.shape[0], x_test.shape[1] ,1))\n",
    "predicted_prices = model.predict(x_test)\n",
    "predicted_prices = scaler.inverse_transform(predicted_prices)"
   ]
  },
  {
   "cell_type": "code",
   "execution_count": 15,
   "metadata": {
    "execution": {
     "iopub.execute_input": "2022-10-06T14:48:06.731574Z",
     "iopub.status.busy": "2022-10-06T14:48:06.730862Z",
     "iopub.status.idle": "2022-10-06T14:48:06.953393Z",
     "shell.execute_reply": "2022-10-06T14:48:06.952485Z",
     "shell.execute_reply.started": "2022-10-06T14:38:29.370251Z"
    },
    "papermill": {
     "duration": 0.522556,
     "end_time": "2022-10-06T14:48:06.953572",
     "exception": false,
     "start_time": "2022-10-06T14:48:06.431016",
     "status": "completed"
    },
    "tags": []
   },
   "outputs": [
    {
     "data": {
      "image/png": "[encoded data removed]",
      "text/plain": [
       "<Figure size 432x288 with 1 Axes>"
      ]
     },
     "metadata": {
      "needs_background": "light"
     },
     "output_type": "display_data"
    }
   ],
   "source": [
    "plt.plot(actual_prices, color='black', label=f\"Actual {COMPANY} price\")\n",
    "plt.plot(predicted_prices, color= 'green', label=f\"predicted {COMPANY} price\")\n",
    "plt.title(f\"{COMPANY} share price\")\n",
    "plt.xlabel(\"time\")\n",
    "plt.ylabel(f\"{COMPANY} share price\")\n",
    "plt.legend()\n",
    "plt.show()"
   ]
  },
  {
   "cell_type": "code",
   "execution_count": 16,
   "metadata": {
    "execution": {
     "iopub.execute_input": "2022-10-06T14:48:07.594694Z",
     "iopub.status.busy": "2022-10-06T14:48:07.593763Z",
     "iopub.status.idle": "2022-10-06T14:48:07.597028Z",
     "shell.execute_reply": "2022-10-06T14:48:07.596462Z",
     "shell.execute_reply.started": "2022-10-06T14:38:42.334708Z"
    },
    "papermill": {
     "duration": 0.342381,
     "end_time": "2022-10-06T14:48:07.597191",
     "exception": false,
     "start_time": "2022-10-06T14:48:07.254810",
     "status": "completed"
    },
    "tags": []
   },
   "outputs": [],
   "source": [
    "# predicting next day\n",
    "real_data = [model_inputs[len(model_inputs)+1 - prediction_days:len(model_inputs+1),0]]\n",
    "real_data = np.array(real_data)\n",
    "real_data = np.reshape(real_data, (real_data.shape[0], real_data.shape[1], 1))"
   ]
  },
  {
   "cell_type": "code",
   "execution_count": 17,
   "metadata": {
    "execution": {
     "iopub.execute_input": "2022-10-06T14:48:08.209474Z",
     "iopub.status.busy": "2022-10-06T14:48:08.208774Z",
     "iopub.status.idle": "2022-10-06T14:48:09.234629Z",
     "shell.execute_reply": "2022-10-06T14:48:09.233945Z",
     "shell.execute_reply.started": "2022-10-06T14:38:43.775365Z"
    },
    "papermill": {
     "duration": 1.330735,
     "end_time": "2022-10-06T14:48:09.234789",
     "exception": false,
     "start_time": "2022-10-06T14:48:07.904054",
     "status": "completed"
    },
    "tags": []
   },
   "outputs": [
    {
     "name": "stdout",
     "output_type": "stream",
     "text": [
      "1/1 [==============================] - 1s 1s/step\n",
      "prediction: [[39.829014]]\n"
     ]
    }
   ],
   "source": [
    "prediction = model.predict(real_data)\n",
    "prediction = scaler.inverse_transform(prediction)\n",
    "print(f\"prediction: {prediction}\")"
   ]
  },
  {
   "cell_type": "code",
   "execution_count": null,
   "metadata": {},
   "outputs": [],
   "source": []
  }
 ],
 "metadata": {
  "kernelspec": {
   "display_name": "Python 3 (ipykernel)",
   "language": "python",
   "name": "python3"
  },
  "language_info": {
   "codemirror_mode": {
    "name": "ipython",
    "version": 3
   },
   "file_extension": ".py",
   "mimetype": "text/x-python",
   "name": "python",
   "nbconvert_exporter": "python",
   "pygments_lexer": "ipython3",
   "version": "3.9.12"
  },
  "papermill": {
   "default_parameters": {},
   "duration": 102.43335,
   "end_time": "2022-10-06T14:48:12.735987",
   "environment_variables": {},
   "exception": null,
   "input_path": "__notebook__.ipynb",
   "output_path": "__notebook__.ipynb",
   "parameters": {},
   "start_time": "2022-10-06T14:46:30.302637",
   "version": "2.2.2"
  }
 },
 "nbformat": 4,
 "nbformat_minor": 4
}
